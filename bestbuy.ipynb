{
 "cells": [
  {
   "cell_type": "markdown",
   "metadata": {},
   "source": [
    "# Data 200: Database Systems and Data Management for Data Analytics\n"
   ]
  },
  {
   "cell_type": "markdown",
   "metadata": {},
   "source": [
    "# Take-Home Final Exam\n",
    "\n",
    "**Dickinson College**<br/>\n",
    "**Fall 2022**<br/>\n",
    "Prof. Eren Bilen<br/>\n",
    "<font color='red'>**Due Date:** Friday December 16, 12pm (noon) </font>\n",
    "---\n",
    "Enter your name in the markdown cell below."
   ]
  },
  {
   "cell_type": "markdown",
   "metadata": {},
   "source": [
    "# Name: ASHLEY DOAN"
   ]
  },
  {
   "cell_type": "code",
   "execution_count": 3,
   "metadata": {},
   "outputs": [
    {
     "name": "stdout",
     "output_type": "stream",
     "text": [
      "Collecting selenium\n",
      "  Downloading selenium-4.32.0-py3-none-any.whl.metadata (7.5 kB)\n",
      "Requirement already satisfied: urllib3<3,>=1.26 in /opt/anaconda3/lib/python3.12/site-packages (from urllib3[socks]<3,>=1.26->selenium) (2.2.3)\n",
      "Collecting trio~=0.17 (from selenium)\n",
      "  Downloading trio-0.30.0-py3-none-any.whl.metadata (8.5 kB)\n",
      "Collecting trio-websocket~=0.9 (from selenium)\n",
      "  Downloading trio_websocket-0.12.2-py3-none-any.whl.metadata (5.1 kB)\n",
      "Requirement already satisfied: certifi>=2021.10.8 in /opt/anaconda3/lib/python3.12/site-packages (from selenium) (2024.8.30)\n",
      "Requirement already satisfied: typing_extensions~=4.9 in /opt/anaconda3/lib/python3.12/site-packages (from selenium) (4.11.0)\n",
      "Requirement already satisfied: websocket-client~=1.8 in /opt/anaconda3/lib/python3.12/site-packages (from selenium) (1.8.0)\n",
      "Collecting attrs>=23.2.0 (from trio~=0.17->selenium)\n",
      "  Downloading attrs-25.3.0-py3-none-any.whl.metadata (10 kB)\n",
      "Requirement already satisfied: sortedcontainers in /opt/anaconda3/lib/python3.12/site-packages (from trio~=0.17->selenium) (2.4.0)\n",
      "Requirement already satisfied: idna in /opt/anaconda3/lib/python3.12/site-packages (from trio~=0.17->selenium) (3.7)\n",
      "Collecting outcome (from trio~=0.17->selenium)\n",
      "  Downloading outcome-1.3.0.post0-py2.py3-none-any.whl.metadata (2.6 kB)\n",
      "Requirement already satisfied: sniffio>=1.3.0 in /opt/anaconda3/lib/python3.12/site-packages (from trio~=0.17->selenium) (1.3.0)\n",
      "Collecting wsproto>=0.14 (from trio-websocket~=0.9->selenium)\n",
      "  Downloading wsproto-1.2.0-py3-none-any.whl.metadata (5.6 kB)\n",
      "Requirement already satisfied: pysocks!=1.5.7,<2.0,>=1.5.6 in /opt/anaconda3/lib/python3.12/site-packages (from urllib3[socks]<3,>=1.26->selenium) (1.7.1)\n",
      "Requirement already satisfied: h11<1,>=0.9.0 in /opt/anaconda3/lib/python3.12/site-packages (from wsproto>=0.14->trio-websocket~=0.9->selenium) (0.14.0)\n",
      "Downloading selenium-4.32.0-py3-none-any.whl (9.4 MB)\n",
      "\u001b[2K   \u001b[90m━━━━━━━━━━━━━━━━━━━━━━━━━━━━━━━━━━━━━━━━\u001b[0m \u001b[32m9.4/9.4 MB\u001b[0m \u001b[31m7.2 MB/s\u001b[0m eta \u001b[36m0:00:00\u001b[0ma \u001b[36m0:00:01\u001b[0mm\n",
      "\u001b[?25hDownloading trio-0.30.0-py3-none-any.whl (499 kB)\n",
      "Downloading trio_websocket-0.12.2-py3-none-any.whl (21 kB)\n",
      "Downloading attrs-25.3.0-py3-none-any.whl (63 kB)\n",
      "Downloading outcome-1.3.0.post0-py2.py3-none-any.whl (10 kB)\n",
      "Downloading wsproto-1.2.0-py3-none-any.whl (24 kB)\n",
      "Installing collected packages: wsproto, attrs, outcome, trio, trio-websocket, selenium\n",
      "  Attempting uninstall: attrs\n",
      "    Found existing installation: attrs 23.1.0\n",
      "    Uninstalling attrs-23.1.0:\n",
      "      Successfully uninstalled attrs-23.1.0\n",
      "Successfully installed attrs-25.3.0 outcome-1.3.0.post0 selenium-4.32.0 trio-0.30.0 trio-websocket-0.12.2 wsproto-1.2.0\n"
     ]
    }
   ],
   "source": [
    "!pip install selenium"
   ]
  },
  {
   "cell_type": "code",
   "execution_count": 5,
   "metadata": {},
   "outputs": [],
   "source": [
    "from selenium import webdriver\n",
    "import pandas as pd\n",
    "import re\n",
    "import time \n",
    "import random\n",
    "import matplotlib.pyplot as plt\n",
    "import numpy as np"
   ]
  },
  {
   "cell_type": "markdown",
   "metadata": {},
   "source": [
    "# Scraping task"
   ]
  },
  {
   "cell_type": "markdown",
   "metadata": {},
   "source": [
    "On this exam, you will scrape reviews from BestBuy.com. The item for which you will scrape reviews for will depend on the first letter of your last name. Check the table below (both letters inclusive) for your assigned item:\n",
    "\n",
    "|First letter of your last name | Item/link to reviews on BestBuy.com\n",
    "| :---        |    :---   |\n",
    "|A-G | https://www.bestbuy.com/site/reviews/microsoft-xbox-series-x-1tb-console-black/6428324?variant=A&skuId=6428324\n",
    "|H-M | https://www.bestbuy.com/site/reviews/apple-airpods-with-charging-case-2nd-generation-white/6084400?variant=A&skuId=6084400\n",
    "|N-S | https://www.bestbuy.com/site/reviews/samsung-65-class-7-series-led-4k-uhd-smart-tizen-tv/6401722?variant=A&skuId=6401722\n",
    "|T-Z | https://www.bestbuy.com/site/reviews/nintendo-switch-32gb-lite-turquoise/6257139?variant=A&skuId=6257139\n"
   ]
  },
  {
   "cell_type": "markdown",
   "metadata": {},
   "source": [
    "Your goal is to scrape 2,000 reviews that were posted in the reviews page of your assigned item. The format of your output should be a dataframe with the following columns/format:\n",
    "<br>\n",
    "![title](ss1.png)"
   ]
  },
  {
   "cell_type": "markdown",
   "metadata": {},
   "source": [
    "where\n",
    "```\n",
    "username: the user name of the reviewer\n",
    "review: the review content\n",
    "rating: the rating (out of 5) left by the reviewer\n",
    "helpful: the number of votes received on the review indicating that the review is helpful\n",
    "unhelpful: the number of votes received on the review indicating that the review is unhelpful\n",
    "net: |helpful - unhelpful| i.e., the absolute value of the difference between \"helpful\" and \"unhelpful\" votes\n",
    "nethelpful: helpful - unhelpful i.e., the difference between \"helpful\" and \"unhelpful\" votes\n",
    "total: total number of votes (helpful + unhelpful) received\n",
    "length: length of the review, defined as the number of characters in a review (including whitespace)\n",
    "```"
   ]
  },
  {
   "cell_type": "markdown",
   "metadata": {},
   "source": [
    "Include the `.ipynb` and `.md` versions of your work + the following two scatterplots as part of your output. Comment on what you observe from the scatterplots. Are you surprised?\n",
    "* scatterplot with `length` on the x axis, `total` on the y axis\n",
    "* scatterplot with `length` on the x axis, `nethelpful` on the y axis\n",
    "\n",
    "Commit and push on Github once you finish."
   ]
  },
  {
   "cell_type": "markdown",
   "metadata": {},
   "source": [
    "Hints: \n",
    "* You will need to scrape multiple pages. Make sure to wait at least 2 seconds between each page, e.g., using `time.sleep(random.uniform(2, 3))`.\n",
    "* Trim away `\\n` from review strings as it contains no useful information, and can cause bugs in regex.\n",
    "* Make sure to get the position of the \"next Page\" button, as its position can change dynamically depending on the page number."
   ]
  },
  {
   "cell_type": "markdown",
   "metadata": {},
   "source": [
    "Good luck!"
   ]
  },
  {
   "cell_type": "code",
   "execution_count": 7,
   "metadata": {},
   "outputs": [
    {
     "ename": "AttributeError",
     "evalue": "'str' object has no attribute 'capabilities'",
     "output_type": "error",
     "traceback": [
      "\u001b[0;31m---------------------------------------------------------------------------\u001b[0m",
      "\u001b[0;31mAttributeError\u001b[0m                            Traceback (most recent call last)",
      "Cell \u001b[0;32mIn[7], line 1\u001b[0m\n\u001b[0;32m----> 1\u001b[0m driver \u001b[38;5;241m=\u001b[39m webdriver\u001b[38;5;241m.\u001b[39mChrome(\u001b[38;5;124mr\u001b[39m\u001b[38;5;124m\"\u001b[39m\u001b[38;5;124mE:\u001b[39m\u001b[38;5;124m\\\u001b[39m\u001b[38;5;124mchromedriver_win32\u001b[39m\u001b[38;5;124m\\\u001b[39m\u001b[38;5;124mchromedriver.exe\u001b[39m\u001b[38;5;124m\"\u001b[39m)\n\u001b[1;32m      2\u001b[0m driver\u001b[38;5;241m.\u001b[39mget(\u001b[38;5;124m\"\u001b[39m\u001b[38;5;124mhttps://www.bestbuy.com/site/reviews/microsoft-xbox-series-x-1tb-console-black/6428324?variant=A&skuId=6428324\u001b[39m\u001b[38;5;124m\"\u001b[39m)\n",
      "File \u001b[0;32m/opt/anaconda3/lib/python3.12/site-packages/selenium/webdriver/chrome/webdriver.py:45\u001b[0m, in \u001b[0;36mWebDriver.__init__\u001b[0;34m(self, options, service, keep_alive)\u001b[0m\n\u001b[1;32m     42\u001b[0m service \u001b[38;5;241m=\u001b[39m service \u001b[38;5;28;01mif\u001b[39;00m service \u001b[38;5;28;01melse\u001b[39;00m Service()\n\u001b[1;32m     43\u001b[0m options \u001b[38;5;241m=\u001b[39m options \u001b[38;5;28;01mif\u001b[39;00m options \u001b[38;5;28;01melse\u001b[39;00m Options()\n\u001b[0;32m---> 45\u001b[0m \u001b[38;5;28msuper\u001b[39m()\u001b[38;5;241m.\u001b[39m\u001b[38;5;21m__init__\u001b[39m(\n\u001b[1;32m     46\u001b[0m     browser_name\u001b[38;5;241m=\u001b[39mDesiredCapabilities\u001b[38;5;241m.\u001b[39mCHROME[\u001b[38;5;124m\"\u001b[39m\u001b[38;5;124mbrowserName\u001b[39m\u001b[38;5;124m\"\u001b[39m],\n\u001b[1;32m     47\u001b[0m     vendor_prefix\u001b[38;5;241m=\u001b[39m\u001b[38;5;124m\"\u001b[39m\u001b[38;5;124mgoog\u001b[39m\u001b[38;5;124m\"\u001b[39m,\n\u001b[1;32m     48\u001b[0m     options\u001b[38;5;241m=\u001b[39moptions,\n\u001b[1;32m     49\u001b[0m     service\u001b[38;5;241m=\u001b[39mservice,\n\u001b[1;32m     50\u001b[0m     keep_alive\u001b[38;5;241m=\u001b[39mkeep_alive,\n\u001b[1;32m     51\u001b[0m )\n",
      "File \u001b[0;32m/opt/anaconda3/lib/python3.12/site-packages/selenium/webdriver/chromium/webdriver.py:51\u001b[0m, in \u001b[0;36mChromiumDriver.__init__\u001b[0;34m(self, browser_name, vendor_prefix, options, service, keep_alive)\u001b[0m\n\u001b[1;32m     48\u001b[0m \u001b[38;5;28mself\u001b[39m\u001b[38;5;241m.\u001b[39mservice \u001b[38;5;241m=\u001b[39m service\n\u001b[1;32m     50\u001b[0m finder \u001b[38;5;241m=\u001b[39m DriverFinder(\u001b[38;5;28mself\u001b[39m\u001b[38;5;241m.\u001b[39mservice, options)\n\u001b[0;32m---> 51\u001b[0m \u001b[38;5;28;01mif\u001b[39;00m finder\u001b[38;5;241m.\u001b[39mget_browser_path():\n\u001b[1;32m     52\u001b[0m     options\u001b[38;5;241m.\u001b[39mbinary_location \u001b[38;5;241m=\u001b[39m finder\u001b[38;5;241m.\u001b[39mget_browser_path()\n\u001b[1;32m     53\u001b[0m     options\u001b[38;5;241m.\u001b[39mbrowser_version \u001b[38;5;241m=\u001b[39m \u001b[38;5;28;01mNone\u001b[39;00m\n",
      "File \u001b[0;32m/opt/anaconda3/lib/python3.12/site-packages/selenium/webdriver/common/driver_finder.py:47\u001b[0m, in \u001b[0;36mDriverFinder.get_browser_path\u001b[0;34m(self)\u001b[0m\n\u001b[1;32m     46\u001b[0m \u001b[38;5;28;01mdef\u001b[39;00m \u001b[38;5;21mget_browser_path\u001b[39m(\u001b[38;5;28mself\u001b[39m) \u001b[38;5;241m-\u001b[39m\u001b[38;5;241m>\u001b[39m \u001b[38;5;28mstr\u001b[39m:\n\u001b[0;32m---> 47\u001b[0m     \u001b[38;5;28;01mreturn\u001b[39;00m \u001b[38;5;28mself\u001b[39m\u001b[38;5;241m.\u001b[39m_binary_paths()[\u001b[38;5;124m\"\u001b[39m\u001b[38;5;124mbrowser_path\u001b[39m\u001b[38;5;124m\"\u001b[39m]\n",
      "File \u001b[0;32m/opt/anaconda3/lib/python3.12/site-packages/selenium/webdriver/common/driver_finder.py:56\u001b[0m, in \u001b[0;36mDriverFinder._binary_paths\u001b[0;34m(self)\u001b[0m\n\u001b[1;32m     53\u001b[0m \u001b[38;5;28;01mif\u001b[39;00m \u001b[38;5;28mself\u001b[39m\u001b[38;5;241m.\u001b[39m_paths[\u001b[38;5;124m\"\u001b[39m\u001b[38;5;124mdriver_path\u001b[39m\u001b[38;5;124m\"\u001b[39m]:\n\u001b[1;32m     54\u001b[0m     \u001b[38;5;28;01mreturn\u001b[39;00m \u001b[38;5;28mself\u001b[39m\u001b[38;5;241m.\u001b[39m_paths\n\u001b[0;32m---> 56\u001b[0m browser \u001b[38;5;241m=\u001b[39m \u001b[38;5;28mself\u001b[39m\u001b[38;5;241m.\u001b[39m_options\u001b[38;5;241m.\u001b[39mcapabilities[\u001b[38;5;124m\"\u001b[39m\u001b[38;5;124mbrowserName\u001b[39m\u001b[38;5;124m\"\u001b[39m]\n\u001b[1;32m     57\u001b[0m \u001b[38;5;28;01mtry\u001b[39;00m:\n\u001b[1;32m     58\u001b[0m     path \u001b[38;5;241m=\u001b[39m \u001b[38;5;28mself\u001b[39m\u001b[38;5;241m.\u001b[39m_service\u001b[38;5;241m.\u001b[39mpath\n",
      "\u001b[0;31mAttributeError\u001b[0m: 'str' object has no attribute 'capabilities'"
     ]
    }
   ],
   "source": [
    "driver = webdriver.Chrome(r\"E:\\chromedriver_win32\\chromedriver.exe\")\n",
    "driver.get(\"https://www.bestbuy.com/site/reviews/microsoft-xbox-series-x-1tb-console-black/6428324?variant=A&skuId=6428324\")"
   ]
  },
  {
   "cell_type": "code",
   "execution_count": 21,
   "metadata": {},
   "outputs": [],
   "source": [
    "def get_comments():\n",
    "    comments = []\n",
    "    for x in range(1,21):\n",
    "        # the user name of the reviewer\n",
    "        userid_element = driver.find_element('xpath','//*[@id=\"reviews-accordion\"]/div[1]/ul/li[{}]/div/div[2]/div[2]/div[1]/span/span/button/div/strong'.format(x))\n",
    "        user = userid_element.text\n",
    "\n",
    "        # the review content\n",
    "        review_element = driver.find_element('xpath','//*[@id=\"reviews-accordion\"]/div[1]/ul/li[{}]/div/div[2]/div[4]'.format(x))\n",
    "        review = review_element.text.replace('\\n','')\n",
    "\n",
    "        # the rating (out of 5) left by the reviewer\n",
    "        rating_element = driver.find_element('xpath','//*[@id=\"reviews-accordion\"]/div[1]/ul/li[{}]/div/div[2]/div[1]/div/div'.format(x))\n",
    "        rating = rating_element.text\n",
    "        cleaned_rating = int(''.join(re.findall(\"Rated (.*?) out\", rating)))\n",
    "\n",
    "        # the number of votes received on the review indicating that the review is helpful\n",
    "        helpful_element = driver.find_element('xpath','//*[@id=\"reviews-accordion\"]/div[1]/ul/li[{}]/div/div[2]/div[6]/div/div/div[1]/button[1]'.format(x))\n",
    "        helpful = helpful_element.text\n",
    "        cleaned_helpful = int(''.join(re.findall(\"[0-9]+\", helpful)))\n",
    "\n",
    "        # the number of votes received on the review indicating that the review is unhelpful\n",
    "        unhelpful_element = driver.find_element('xpath','//*[@id=\"reviews-accordion\"]/div[1]/ul/li[{}]/div/div[2]/div[6]/div/div/div[1]/button[2]'.format(x))\n",
    "        unhelpful = unhelpful_element.text\n",
    "        cleaned_unhelpful = int(''.join(re.findall(\"[0-9]+\", unhelpful)))\n",
    "\n",
    "        # |helpful - unhelpful| i.e., the absolute value of the difference between \"helpful\" and \"unhelpful\" votes\n",
    "        net = abs(cleaned_helpful - cleaned_unhelpful)\n",
    "\n",
    "        # helpful - unhelpful i.e., the difference between \"helpful\" and \"unhelpful\" votes\n",
    "        net_helpful = cleaned_helpful - cleaned_unhelpful\n",
    "\n",
    "        # total number of votes (helpful + unhelpful) received\n",
    "        total = cleaned_helpful + cleaned_unhelpful\n",
    "\n",
    "        # length of the review, defined as the number of characters in a review (including whitespace)\n",
    "        length = len(review)\n",
    "\n",
    "        comments.append([user, review, cleaned_rating, cleaned_helpful, cleaned_unhelpful, net, net_helpful, total, length])\n",
    "\n",
    "    return comments"
   ]
  },
  {
   "cell_type": "code",
   "execution_count": 59,
   "metadata": {},
   "outputs": [
    {
     "name": "stdout",
     "output_type": "stream",
     "text": [
      "Error!\n",
      "Error!\n",
      "Error!\n",
      "Error!\n",
      "Error!\n"
     ]
    }
   ],
   "source": [
    "# go to first page\n",
    "driver.get('https://www.bestbuy.com/site/reviews/microsoft-xbox-series-x-1tb-console-black/6428324?variant=A&skuId=6428324')\n",
    "\n",
    "# create an empty data frame\n",
    "df_out = pd.DataFrame()\n",
    "\n",
    "# loop over 100 pages\n",
    "for j in range(0,100):\n",
    "    try:\n",
    "        # get comments\n",
    "        comments = get_comments()\n",
    "\n",
    "        # create a dataframe (df) with current page data\n",
    "        df = pd.DataFrame(comments,columns=['userid','review','rating','helpful','unhelpful', 'net', 'net_helpful', 'total', 'review_length'])\n",
    "\n",
    "        # df_out with the entire data\n",
    "        df_out = pd.concat([df_out,df])\n",
    "\n",
    "        # find the location of the next page button, then click on it\n",
    "        button = driver.find_element('xpath','//*[@title=\"next Page\"]')\n",
    "        button.click()\n",
    "        \n",
    "        # wait between 2-3 seconds\n",
    "        time.sleep(random.uniform(2,3))\n",
    "        \n",
    "    except:\n",
    "        print('Error!')"
   ]
  },
  {
   "cell_type": "code",
   "execution_count": 60,
   "metadata": {},
   "outputs": [
    {
     "data": {
      "text/html": [
       "<div>\n",
       "<style scoped>\n",
       "    .dataframe tbody tr th:only-of-type {\n",
       "        vertical-align: middle;\n",
       "    }\n",
       "\n",
       "    .dataframe tbody tr th {\n",
       "        vertical-align: top;\n",
       "    }\n",
       "\n",
       "    .dataframe thead th {\n",
       "        text-align: right;\n",
       "    }\n",
       "</style>\n",
       "<table border=\"1\" class=\"dataframe\">\n",
       "  <thead>\n",
       "    <tr style=\"text-align: right;\">\n",
       "      <th></th>\n",
       "      <th>userid</th>\n",
       "      <th>review</th>\n",
       "      <th>rating</th>\n",
       "      <th>helpful</th>\n",
       "      <th>unhelpful</th>\n",
       "      <th>net</th>\n",
       "      <th>net_helpful</th>\n",
       "      <th>total</th>\n",
       "      <th>review_length</th>\n",
       "    </tr>\n",
       "  </thead>\n",
       "  <tbody>\n",
       "    <tr>\n",
       "      <th>0</th>\n",
       "      <td>Andrew</td>\n",
       "      <td>I used to own an Xbox One X and some people wi...</td>\n",
       "      <td>5</td>\n",
       "      <td>75</td>\n",
       "      <td>19</td>\n",
       "      <td>56</td>\n",
       "      <td>56</td>\n",
       "      <td>94</td>\n",
       "      <td>1680</td>\n",
       "    </tr>\n",
       "    <tr>\n",
       "      <th>1</th>\n",
       "      <td>EdmondC</td>\n",
       "      <td>Could not wait to pick it up at the store!!!As...</td>\n",
       "      <td>5</td>\n",
       "      <td>5</td>\n",
       "      <td>0</td>\n",
       "      <td>5</td>\n",
       "      <td>5</td>\n",
       "      <td>5</td>\n",
       "      <td>653</td>\n",
       "    </tr>\n",
       "    <tr>\n",
       "      <th>2</th>\n",
       "      <td>Misphit</td>\n",
       "      <td>I love it, most people are deciding to get one...</td>\n",
       "      <td>5</td>\n",
       "      <td>4</td>\n",
       "      <td>2</td>\n",
       "      <td>2</td>\n",
       "      <td>2</td>\n",
       "      <td>6</td>\n",
       "      <td>726</td>\n",
       "    </tr>\n",
       "    <tr>\n",
       "      <th>3</th>\n",
       "      <td>Sunday</td>\n",
       "      <td>After two years of trying, I finally got my ha...</td>\n",
       "      <td>5</td>\n",
       "      <td>0</td>\n",
       "      <td>0</td>\n",
       "      <td>0</td>\n",
       "      <td>0</td>\n",
       "      <td>0</td>\n",
       "      <td>849</td>\n",
       "    </tr>\n",
       "    <tr>\n",
       "      <th>4</th>\n",
       "      <td>N8Mare39</td>\n",
       "      <td>Ive been a playstation fanboy all my life! Eve...</td>\n",
       "      <td>5</td>\n",
       "      <td>59</td>\n",
       "      <td>40</td>\n",
       "      <td>19</td>\n",
       "      <td>19</td>\n",
       "      <td>99</td>\n",
       "      <td>1477</td>\n",
       "    </tr>\n",
       "    <tr>\n",
       "      <th>...</th>\n",
       "      <td>...</td>\n",
       "      <td>...</td>\n",
       "      <td>...</td>\n",
       "      <td>...</td>\n",
       "      <td>...</td>\n",
       "      <td>...</td>\n",
       "      <td>...</td>\n",
       "      <td>...</td>\n",
       "      <td>...</td>\n",
       "    </tr>\n",
       "    <tr>\n",
       "      <th>1995</th>\n",
       "      <td>RandallA</td>\n",
       "      <td>Loads of gaming fun. This is an excellent choi...</td>\n",
       "      <td>5</td>\n",
       "      <td>0</td>\n",
       "      <td>0</td>\n",
       "      <td>0</td>\n",
       "      <td>0</td>\n",
       "      <td>0</td>\n",
       "      <td>67</td>\n",
       "    </tr>\n",
       "    <tr>\n",
       "      <th>1996</th>\n",
       "      <td>Sick</td>\n",
       "      <td>Huge difference between Xbox one s and series ...</td>\n",
       "      <td>5</td>\n",
       "      <td>0</td>\n",
       "      <td>0</td>\n",
       "      <td>0</td>\n",
       "      <td>0</td>\n",
       "      <td>0</td>\n",
       "      <td>145</td>\n",
       "    </tr>\n",
       "    <tr>\n",
       "      <th>1997</th>\n",
       "      <td>Bryan</td>\n",
       "      <td>Love it. Waited forever to get one. The speed ...</td>\n",
       "      <td>5</td>\n",
       "      <td>0</td>\n",
       "      <td>0</td>\n",
       "      <td>0</td>\n",
       "      <td>0</td>\n",
       "      <td>0</td>\n",
       "      <td>94</td>\n",
       "    </tr>\n",
       "    <tr>\n",
       "      <th>1998</th>\n",
       "      <td>AshleyD</td>\n",
       "      <td>We haven’t opened this product yet because it ...</td>\n",
       "      <td>5</td>\n",
       "      <td>0</td>\n",
       "      <td>0</td>\n",
       "      <td>0</td>\n",
       "      <td>0</td>\n",
       "      <td>0</td>\n",
       "      <td>65</td>\n",
       "    </tr>\n",
       "    <tr>\n",
       "      <th>1999</th>\n",
       "      <td>EJS48</td>\n",
       "      <td>X-Box needs to provide the abilty to add a sou...</td>\n",
       "      <td>4</td>\n",
       "      <td>0</td>\n",
       "      <td>0</td>\n",
       "      <td>0</td>\n",
       "      <td>0</td>\n",
       "      <td>0</td>\n",
       "      <td>121</td>\n",
       "    </tr>\n",
       "  </tbody>\n",
       "</table>\n",
       "<p>2000 rows × 9 columns</p>\n",
       "</div>"
      ],
      "text/plain": [
       "        userid                                             review  rating  \\\n",
       "0       Andrew  I used to own an Xbox One X and some people wi...       5   \n",
       "1      EdmondC  Could not wait to pick it up at the store!!!As...       5   \n",
       "2      Misphit  I love it, most people are deciding to get one...       5   \n",
       "3       Sunday  After two years of trying, I finally got my ha...       5   \n",
       "4     N8Mare39  Ive been a playstation fanboy all my life! Eve...       5   \n",
       "...        ...                                                ...     ...   \n",
       "1995  RandallA  Loads of gaming fun. This is an excellent choi...       5   \n",
       "1996      Sick  Huge difference between Xbox one s and series ...       5   \n",
       "1997     Bryan  Love it. Waited forever to get one. The speed ...       5   \n",
       "1998   AshleyD  We haven’t opened this product yet because it ...       5   \n",
       "1999     EJS48  X-Box needs to provide the abilty to add a sou...       4   \n",
       "\n",
       "      helpful  unhelpful  net  net_helpful  total  review_length  \n",
       "0          75         19   56           56     94           1680  \n",
       "1           5          0    5            5      5            653  \n",
       "2           4          2    2            2      6            726  \n",
       "3           0          0    0            0      0            849  \n",
       "4          59         40   19           19     99           1477  \n",
       "...       ...        ...  ...          ...    ...            ...  \n",
       "1995        0          0    0            0      0             67  \n",
       "1996        0          0    0            0      0            145  \n",
       "1997        0          0    0            0      0             94  \n",
       "1998        0          0    0            0      0             65  \n",
       "1999        0          0    0            0      0            121  \n",
       "\n",
       "[2000 rows x 9 columns]"
      ]
     },
     "execution_count": 60,
     "metadata": {},
     "output_type": "execute_result"
    }
   ],
   "source": [
    "df_out.reset_index(drop=True)"
   ]
  },
  {
   "cell_type": "code",
   "execution_count": 61,
   "metadata": {},
   "outputs": [
    {
     "data": {
      "image/png": "[encoded data removed]",
      "text/plain": [
       "<Figure size 432x288 with 1 Axes>"
      ]
     },
     "metadata": {
      "needs_background": "light"
     },
     "output_type": "display_data"
    }
   ],
   "source": [
    "# scatterplot for review_length and total\n",
    "a, b = np.polyfit(df_out['review_length'], df_out['total'], 1)\n",
    "plt.scatter(df_out['review_length'], df_out['total'], s = 7)\n",
    "plt.title(\"Scatterplot for the length of review and the total number of votes\")\n",
    "plt.xlabel(\"Length of review\")\n",
    "plt.ylabel(\"Total number of votes\")\n",
    "plt.plot(df_out['review_length'], a*df_out['review_length']+b)\n",
    "plt.show()"
   ]
  },
  {
   "cell_type": "code",
   "execution_count": 62,
   "metadata": {},
   "outputs": [
    {
     "data": {
      "text/plain": [
       "array([[1.        , 0.15328302],\n",
       "       [0.15328302, 1.        ]])"
      ]
     },
     "execution_count": 62,
     "metadata": {},
     "output_type": "execute_result"
    }
   ],
   "source": [
    "# correlation coefficient of review_length and total\n",
    "np.corrcoef(df_out['review_length'], df_out['total'])"
   ]
  },
  {
   "cell_type": "markdown",
   "metadata": {},
   "source": [
    "Both the best fit line (slightly upward sloping) and Pearson correlation coefficient (0.15) suggest a weak positive association \n",
    "between the length of reviews and the total number of votes received for that review. I find this surprising because I thought \n",
    "normally longer reviews will get more attention and thus get more votes. However, the correlation is not really significant."
   ]
  },
  {
   "cell_type": "code",
   "execution_count": 63,
   "metadata": {},
   "outputs": [
    {
     "data": {
      "image/png": "[encoded data removed]",
      "text/plain": [
       "<Figure size 432x288 with 1 Axes>"
      ]
     },
     "metadata": {
      "needs_background": "light"
     },
     "output_type": "display_data"
    }
   ],
   "source": [
    "# scatterplot for review_length and net_helpful\n",
    "a, b = np.polyfit(df_out['review_length'], df_out['net_helpful'], 1)\n",
    "plt.scatter(df_out['review_length'], df_out['net_helpful'], s = 5)\n",
    "plt.title(\"Scatterplot for the length of review and the difference between 'helpful' and 'unhelpful' votes\")\n",
    "plt.xlabel(\"Length of review\")\n",
    "plt.ylabel(\"Helpful - unhelpful votes\")\n",
    "plt.plot(df_out['review_length'], a*df_out['net_helpful']+b)\n",
    "plt.show()"
   ]
  },
  {
   "cell_type": "code",
   "execution_count": 64,
   "metadata": {},
   "outputs": [
    {
     "data": {
      "text/plain": [
       "array([[1.        , 0.03416427],\n",
       "       [0.03416427, 1.        ]])"
      ]
     },
     "execution_count": 64,
     "metadata": {},
     "output_type": "execute_result"
    }
   ],
   "source": [
    "# correlation coefficient of review_length and net_helpful\n",
    "np.corrcoef(df_out['review_length'], df_out['net_helpful'])"
   ]
  },
  {
   "cell_type": "markdown",
   "metadata": {},
   "source": [
    "Both the best fit line (almost flat) and Pearson correlation coefficient (0.03) suggest that there is almost no association \n",
    "between the length of reviews and the difference between 'helpful' and 'unhelpful' votes. This outcome surprised me as I assumed longer reviews are usually deemed helpful and thus there would be a strong positive correlation between the two variables. "
   ]
  }
 ],
 "metadata": {
  "celltoolbar": "Raw Cell Format",
  "kernelspec": {
   "display_name": "Python 3 (ipykernel)",
   "language": "python",
   "name": "python3"
  },
  "language_info": {
   "codemirror_mode": {
    "name": "ipython",
    "version": 3
   },
   "file_extension": ".py",
   "mimetype": "text/x-python",
   "name": "python",
   "nbconvert_exporter": "python",
   "pygments_lexer": "ipython3",
   "version": "3.12.7"
  }
 },
 "nbformat": 4,
 "nbformat_minor": 4
}
